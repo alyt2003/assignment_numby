{
 "cells": [
  {
   "cell_type": "markdown",
   "metadata": {},
   "source": [
    "## Q1"
   ]
  },
  {
   "cell_type": "code",
   "execution_count": 2,
   "metadata": {},
   "outputs": [],
   "source": [
    "import numpy as np"
   ]
  },
  {
   "cell_type": "code",
   "execution_count": 3,
   "metadata": {},
   "outputs": [
    {
     "data": {
      "text/plain": [
       "array([[11, 18, 14],\n",
       "       [ 9,  3,  5],\n",
       "       [13, 13,  5]])"
      ]
     },
     "execution_count": 3,
     "metadata": {},
     "output_type": "execute_result"
    }
   ],
   "source": [
    "arr=np.random.randint(1,21,(3,3))\n",
    "arr"
   ]
  },
  {
   "cell_type": "markdown",
   "metadata": {},
   "source": [
    "## Q2"
   ]
  },
  {
   "cell_type": "code",
   "execution_count": 13,
   "metadata": {},
   "outputs": [
    {
     "name": "stdout",
     "output_type": "stream",
     "text": [
      "[[0.63947953 0.13997931 0.72991654 0.31335793 0.57409224]\n",
      " [0.8907406  0.12884367 0.26684813 0.25690647 0.66463187]\n",
      " [0.99716648 0.57492636 0.54661944 0.67282383 0.34046808]\n",
      " [0.42692265 0.84178765 0.15988194 0.19355459 0.71465325]\n",
      " [0.42691754 0.16103616 0.5543148  0.15976525 0.24035295]]\n",
      "[0.72991654 0.8907406  0.99716648 0.84178765 0.5543148 ]\n"
     ]
    }
   ],
   "source": [
    "arr=np.random.rand(5,5)\n",
    "print(arr)\n",
    "row_min=np.max(arr,1)\n",
    "print(row_min)\n",
    "row_max=np.min(arr,1)"
   ]
  },
  {
   "cell_type": "markdown",
   "metadata": {},
   "source": [
    "## Q3"
   ]
  },
  {
   "cell_type": "code",
   "execution_count": 22,
   "metadata": {},
   "outputs": [
    {
     "name": "stdout",
     "output_type": "stream",
     "text": [
      "[ 8 13 21 24 26 48 58 88 89 93]\n"
     ]
    }
   ],
   "source": [
    "arr=np.random.randint(1,100,10)\n",
    "x=np.sort(arr)\n",
    "print(x)"
   ]
  },
  {
   "cell_type": "markdown",
   "metadata": {},
   "source": [
    "## Q4"
   ]
  },
  {
   "cell_type": "code",
   "execution_count": 5,
   "metadata": {},
   "outputs": [],
   "source": [
    "import statistics as stats"
   ]
  },
  {
   "cell_type": "code",
   "execution_count": 6,
   "metadata": {},
   "outputs": [
    {
     "name": "stdout",
     "output_type": "stream",
     "text": [
      "3\n"
     ]
    }
   ],
   "source": [
    "\n",
    "arr=np.array([1,2,3,3,3,6,7,8])\n",
    "mode=stats.mode(arr)\n",
    "print(mode)\n"
   ]
  },
  {
   "cell_type": "markdown",
   "metadata": {},
   "source": [
    "## Q5"
   ]
  },
  {
   "cell_type": "code",
   "execution_count": 11,
   "metadata": {},
   "outputs": [
    {
     "name": "stdout",
     "output_type": "stream",
     "text": [
      "[[1 2 3 4]\n",
      " [5 6 7 8]]\n",
      "[[1 0 3 0]\n",
      " [5 0 7 0]]\n"
     ]
    }
   ],
   "source": [
    "array_2d=np.array([[1,2,3,4],[5,6,7,8]])\n",
    "print(array_2d)\n",
    "for i in range(array_2d.shape[0]):\n",
    "    for j in range(array_2d.shape[1]):\n",
    "        if(array_2d[i][j]%2==0):\n",
    "            array_2d[i][j]=0\n",
    "        \n",
    "print(array_2d)"
   ]
  },
  {
   "cell_type": "markdown",
   "metadata": {},
   "source": [
    "## Q6"
   ]
  },
  {
   "cell_type": "code",
   "execution_count": 12,
   "metadata": {},
   "outputs": [
    {
     "name": "stdout",
     "output_type": "stream",
     "text": [
      "[1. 2. 3. 4. 5.]\n"
     ]
    }
   ],
   "source": [
    "arr=np.array([1,4,9,16,25])\n",
    "result=np.sqrt(arr)\n",
    "print(result)"
   ]
  },
  {
   "cell_type": "markdown",
   "metadata": {},
   "source": [
    "## Q7"
   ]
  },
  {
   "cell_type": "code",
   "execution_count": null,
   "metadata": {},
   "outputs": [
    {
     "name": "stdout",
     "output_type": "stream",
     "text": [
      "[[14  9 18]\n",
      " [13 12  5]\n",
      " [14  4 18]]\n",
      "[[ 0  0 12]\n",
      " [ 3  5  0]\n",
      " [ 2 -4 12]]\n"
     ]
    }
   ],
   "source": [
    "arr=np.random.randint(1,21,(3,3))\n",
    "print(arr)\n",
    "for i in range(arr.shape[0]):   \n",
    "    for j in range(arr.shape[1]):\n",
    "        mean_arr=np.mean(arr[i])\n",
    "        arr[i][j]=arr[i][j]-mean_arr\n",
    "print(arr)"
   ]
  },
  {
   "cell_type": "markdown",
   "metadata": {},
   "source": [
    "## Q8"
   ]
  },
  {
   "cell_type": "code",
   "execution_count": 23,
   "metadata": {},
   "outputs": [
    {
     "name": "stdout",
     "output_type": "stream",
     "text": [
      "[ 1.  3.  5.  7.  9. 11. 13. 15. 17. 19. 21. 23. 25. 27. 29. 31. 33. 35.\n",
      " 37. 39.]\n"
     ]
    }
   ],
   "source": [
    "count=0\n",
    "i=0\n",
    "arr = np.empty(20)\n",
    "while count !=20:\n",
    "    if i %2 !=0:\n",
    "        arr[count]=i\n",
    "        count+=1\n",
    "    i+=1\n",
    "print(arr)\n"
   ]
  },
  {
   "cell_type": "markdown",
   "metadata": {},
   "source": [
    "## Q9"
   ]
  },
  {
   "cell_type": "code",
   "execution_count": 25,
   "metadata": {},
   "outputs": [
    {
     "name": "stdout",
     "output_type": "stream",
     "text": [
      "[[ 80  41  96  22  74]\n",
      " [ 92  83  61  94  56]\n",
      " [ 64  55 100  37 100]\n",
      " [ 66  36  34  38   6]\n",
      " [ 14  79  11  48  73]]\n",
      "[80 79 96 48 74]\n"
     ]
    }
   ],
   "source": [
    "arr=np.random.randint(1,101,(5,5))\n",
    "print(arr)\n",
    "sorted_arr=np.sort(arr,0)\n",
    "ans=sorted_arr[-2,:]\n",
    "print(ans)  "
   ]
  },
  {
   "cell_type": "markdown",
   "metadata": {},
   "source": [
    "## Q10"
   ]
  },
  {
   "cell_type": "code",
   "execution_count": 28,
   "metadata": {},
   "outputs": [
    {
     "name": "stdout",
     "output_type": "stream",
     "text": [
      "[[ 5 10 20 20]\n",
      " [ 8 15 18 14]\n",
      " [11 16  8  7]\n",
      " [18 13 19  4]]\n",
      "[55 55 42 54]\n"
     ]
    }
   ],
   "source": [
    "arr=np.random.randint(1,21,(4,4))\n",
    "print(arr)\n",
    "sum_row=np.sum(arr,1)\n",
    "print(sum_row)"
   ]
  },
  {
   "cell_type": "code",
   "execution_count": null,
   "metadata": {},
   "outputs": [],
   "source": []
  }
 ],
 "metadata": {
  "kernelspec": {
   "display_name": "base",
   "language": "python",
   "name": "python3"
  },
  "language_info": {
   "codemirror_mode": {
    "name": "ipython",
    "version": 3
   },
   "file_extension": ".py",
   "mimetype": "text/x-python",
   "name": "python",
   "nbconvert_exporter": "python",
   "pygments_lexer": "ipython3",
   "version": "3.12.9"
  }
 },
 "nbformat": 4,
 "nbformat_minor": 2
}
